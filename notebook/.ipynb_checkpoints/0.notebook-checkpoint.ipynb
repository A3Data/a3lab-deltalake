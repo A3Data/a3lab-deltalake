{
 "cells": [
  {
   "cell_type": "markdown",
   "id": "c27f9653",
   "metadata": {},
   "source": [
    "<p align=\"center\">\n",
    "  <a href=\"\" rel=\"noopener\">\n",
    " <img width=500px height=100px src=\"https://docs.delta.io/latest/_static/delta-lake-logo.png\" alt=\"Project logo\"></a>\n",
    "</p>\n",
    "\n",
    "<h6 align=\"center\">Delta Lake é um projeto de código aberto que permite a construção de uma arquitetura Lakehouse. Fornecendo features como, transações ACID, manipulação de metadados escalonáveis e unificação do modo de realizar processamento de dados em lote e streaming sobre os data lakes existentes, como S3, ADLS, GCS e HDFS.</h6>\n",
    "\n",
    "<div align=\"center\">\n",
    "</div>"
   ]
  },
  {
   "cell_type": "markdown",
   "id": "aa9ffcc2",
   "metadata": {},
   "source": [
    "<h6 align=\"center\">\n",
    "Delta Lake é uma camada de armazenamento que utiliza o formato Parquet como padrão e que fornece transações compatíveis com ACID e benefícios adicionais para Data Lakes. O Delta Lake pode ajudar a resolver diversos problemas alguns deles são:\n",
    "</h6>\n",
    "    \n",
    "- Dificuldade em anexar dados\n",
    "- Jobs extremamente custosos que falham durante a execução\n",
    "- Modificações de dados armazenados são difíceis\n",
    "- Operações em tempo real\n",
    "- É caro manter versões históricas de dados\n",
    "- Difícil de lidar com metadados grandes\n",
    "- Problemas de “muitos arquivos”\n",
    "- É difícil obter um ótimo desempenho\n",
    "- Problemas de qualidade de dados\n"
   ]
  },
  {
   "cell_type": "markdown",
   "id": "6354f22e",
   "metadata": {},
   "source": [
    "## Jars for Delta"
   ]
  },
  {
   "cell_type": "code",
   "execution_count": 1,
   "id": "5c231dfc",
   "metadata": {},
   "outputs": [
    {
     "name": "stderr",
     "output_type": "stream",
     "text": [
      "21/11/15 23:40:12 WARN Utils: Your hostname, Carloss-MacBook-Air.local resolves to a loopback address: 127.0.0.1; using 192.168.15.8 instead (on interface en0)\n",
      "21/11/15 23:40:12 WARN Utils: Set SPARK_LOCAL_IP if you need to bind to another address\n"
     ]
    },
    {
     "name": "stdout",
     "output_type": "stream",
     "text": [
      ":: loading settings :: url = jar:file:/Users/carlosbarbosa/opt/miniconda3/lib/python3.9/site-packages/pyspark/jars/ivy-2.4.0.jar!/org/apache/ivy/core/settings/ivysettings.xml\n"
     ]
    },
    {
     "name": "stderr",
     "output_type": "stream",
     "text": [
      "Ivy Default Cache set to: /Users/carlosbarbosa/.ivy2/cache\n",
      "The jars for the packages stored in: /Users/carlosbarbosa/.ivy2/jars\n",
      "io.delta#delta-core_2.12 added as a dependency\n",
      ":: resolving dependencies :: org.apache.spark#spark-submit-parent-f71eb7e1-c25d-42f5-bb25-4fc8249025de;1.0\n",
      "\tconfs: [default]\n",
      "\tfound io.delta#delta-core_2.12;1.0.0 in central\n",
      "\tfound org.antlr#antlr4;4.7 in central\n",
      "\tfound org.antlr#antlr4-runtime;4.7 in central\n",
      "\tfound org.antlr#antlr-runtime;3.5.2 in central\n",
      "\tfound org.antlr#ST4;4.0.8 in central\n",
      "\tfound org.abego.treelayout#org.abego.treelayout.core;1.0.3 in central\n",
      "\tfound org.glassfish#javax.json;1.0.4 in central\n",
      "\tfound com.ibm.icu#icu4j;58.2 in central\n",
      ":: resolution report :: resolve 553ms :: artifacts dl 28ms\n",
      "\t:: modules in use:\n",
      "\tcom.ibm.icu#icu4j;58.2 from central in [default]\n",
      "\tio.delta#delta-core_2.12;1.0.0 from central in [default]\n",
      "\torg.abego.treelayout#org.abego.treelayout.core;1.0.3 from central in [default]\n",
      "\torg.antlr#ST4;4.0.8 from central in [default]\n",
      "\torg.antlr#antlr-runtime;3.5.2 from central in [default]\n",
      "\torg.antlr#antlr4;4.7 from central in [default]\n",
      "\torg.antlr#antlr4-runtime;4.7 from central in [default]\n",
      "\torg.glassfish#javax.json;1.0.4 from central in [default]\n",
      "\t---------------------------------------------------------------------\n",
      "\t|                  |            modules            ||   artifacts   |\n",
      "\t|       conf       | number| search|dwnlded|evicted|| number|dwnlded|\n",
      "\t---------------------------------------------------------------------\n",
      "\t|      default     |   8   |   0   |   0   |   0   ||   8   |   0   |\n",
      "\t---------------------------------------------------------------------\n",
      ":: retrieving :: org.apache.spark#spark-submit-parent-f71eb7e1-c25d-42f5-bb25-4fc8249025de\n",
      "\tconfs: [default]\n",
      "\t0 artifacts copied, 8 already retrieved (0kB/18ms)\n",
      "21/11/15 23:40:13 WARN NativeCodeLoader: Unable to load native-hadoop library for your platform... using builtin-java classes where applicable\n",
      "Using Spark's default log4j profile: org/apache/spark/log4j-defaults.properties\n",
      "Setting default log level to \"WARN\".\n",
      "To adjust logging level use sc.setLogLevel(newLevel). For SparkR, use setLogLevel(newLevel).\n"
     ]
    }
   ],
   "source": [
    "from pyspark.sql import SparkSession\n",
    "\n",
    "spark = (\n",
    "    SparkSession\n",
    "    .builder\n",
    "    .appName(\"0.a3lab - Delta Lake\")\n",
    "    .config(\"spark.jars.packages\", \"io.delta:delta-core_2.12:1.0.0\")\n",
    "    .config(\"spark.sql.extensions\", \"io.delta.sql.DeltaSparkSessionExtension\")\n",
    "    .config(\"spark.sql.catalog.spark_catalog\", \"org.apache.spark.sql.delta.catalog.DeltaCatalog\")\n",
    "    .getOrCreate()\n",
    ")\n",
    "\n",
    "spark.sparkContext.setLogLevel(\"WARN\")"
   ]
  },
  {
   "cell_type": "code",
   "execution_count": 2,
   "id": "e8bcbc05",
   "metadata": {},
   "outputs": [],
   "source": [
    "from delta.tables import DeltaTable"
   ]
  },
  {
   "cell_type": "markdown",
   "id": "01de7702",
   "metadata": {},
   "source": [
    "## Read Raw Data"
   ]
  },
  {
   "cell_type": "code",
   "execution_count": 3,
   "id": "d5eed617",
   "metadata": {},
   "outputs": [
    {
     "name": "stderr",
     "output_type": "stream",
     "text": [
      "                                                                                \r"
     ]
    },
    {
     "name": "stdout",
     "output_type": "stream",
     "text": [
      "+-------+-----------------------+\n",
      "|user_id|email                  |\n",
      "+-------+-----------------------+\n",
      "|1703   |daron.bailey@email.com |\n",
      "|3650   |jonah.barrows@email.com|\n",
      "|8809   |carla.hansen@email.com |\n",
      "|4606   |tomas.ledner@email.com |\n",
      "|1      |alyse.ortiz@email.com  |\n",
      "+-------+-----------------------+\n",
      "only showing top 5 rows\n",
      "\n",
      "AMOUNT 600\n"
     ]
    }
   ],
   "source": [
    "df_user = (\n",
    "    spark\n",
    "    .read\n",
    "    .format(\"json\")\n",
    "    .load(\"../landing-zone/user\")\n",
    "    .select(\"user_id\", \"email\")\n",
    ")\n",
    "\n",
    "df_user.show(n=5, truncate=False)\n",
    "print(f\"AMOUNT {df_user.count()}\")"
   ]
  },
  {
   "cell_type": "markdown",
   "id": "e17775bd",
   "metadata": {},
   "source": [
    "## Write Delta Table"
   ]
  },
  {
   "cell_type": "code",
   "execution_count": 9,
   "id": "050ae5ee",
   "metadata": {},
   "outputs": [
    {
     "name": "stderr",
     "output_type": "stream",
     "text": [
      "                                                                                \r"
     ]
    }
   ],
   "source": [
    "(\n",
    "    df_user\n",
    "    .write\n",
    "    .format(\"delta\")\n",
    "    .mode(\"overwrite\") # overwrite | append\n",
    "    .save(\"../bronze/delta/user\")\n",
    ")"
   ]
  },
  {
   "cell_type": "markdown",
   "id": "72c6e000",
   "metadata": {},
   "source": [
    "## Delta Object Instance"
   ]
  },
  {
   "cell_type": "code",
   "execution_count": null,
   "id": "3ea5b630",
   "metadata": {},
   "outputs": [],
   "source": [
    "deltaTable = DeltaTable.forPath(spark, \"../bronze/delta/user\")\n",
    "deltaTable"
   ]
  },
  {
   "cell_type": "markdown",
   "id": "bfdfb1a2",
   "metadata": {},
   "source": [
    "## Delete"
   ]
  },
  {
   "cell_type": "code",
   "execution_count": null,
   "id": "220858f8",
   "metadata": {},
   "outputs": [],
   "source": [
    "print(\"BEFORE DELETE\")\n",
    "history = deltaTable.toDF()\n",
    "history.where(\"user_id == 1\").show(truncate=False)\n",
    "\n",
    "print(\"AFTER DELTE\")\n",
    "deltaTable.delete(\n",
    "    \"user_id == 1\"\n",
    ")\n",
    "\n",
    "history = deltaTable.toDF()\n",
    "history.where(\"user_id == 1\").show(truncate=False)"
   ]
  },
  {
   "cell_type": "markdown",
   "id": "909876ea",
   "metadata": {},
   "source": [
    "## Update"
   ]
  },
  {
   "cell_type": "code",
   "execution_count": null,
   "id": "49f53da2",
   "metadata": {},
   "outputs": [],
   "source": [
    "print(\"BEFORE UPDATE\")\n",
    "history = deltaTable.toDF()\n",
    "history.where(\"email == 'marcos.collier@email.com'\").show(truncate=False)\n",
    "\n",
    "print(\"AFTER UPDATE\")\n",
    "deltaTable.update(\n",
    "    condition = \"email = 'marcos.collier@email.com'\",\n",
    "    set = { \"email\": \"'a3lab@gmail.com'\" } \n",
    ")\n",
    "\n",
    "history = deltaTable.toDF()\n",
    "history.where(\"email == 'a3lab@gmail.com'\").show(truncate=False)"
   ]
  },
  {
   "cell_type": "markdown",
   "id": "e33385b5",
   "metadata": {},
   "source": [
    "## Old Data"
   ]
  },
  {
   "cell_type": "code",
   "execution_count": null,
   "id": "a5d7f37d",
   "metadata": {},
   "outputs": [],
   "source": [
    "df_old = (\n",
    "    spark.read.format(\"delta\").load(\"../bronze/delta/user\")\n",
    ")\n",
    "\n",
    "df_old.where(\"user_id in (1703, 3650)\").show(truncate=False)"
   ]
  },
  {
   "cell_type": "markdown",
   "id": "19fe5621",
   "metadata": {},
   "source": [
    "## New Data"
   ]
  },
  {
   "cell_type": "code",
   "execution_count": null,
   "id": "c67b2db9",
   "metadata": {},
   "outputs": [],
   "source": [
    "items = [(\"1703\",\"carlao@gmail.com\"), (\"3650\", \"leozao@a3data.com.br\")]\n",
    "cols = [\"user_id\", \"email\"]"
   ]
  },
  {
   "cell_type": "code",
   "execution_count": null,
   "id": "e8c41674",
   "metadata": {},
   "outputs": [],
   "source": [
    "df_new = spark.createDataFrame(items, cols)\n",
    "df_new.show()"
   ]
  },
  {
   "cell_type": "markdown",
   "id": "8c20b9dc",
   "metadata": {},
   "source": [
    "## Upserts"
   ]
  },
  {
   "cell_type": "code",
   "execution_count": null,
   "id": "216c482d",
   "metadata": {},
   "outputs": [],
   "source": [
    "(\n",
    "    deltaTable.alias(\"old\")\n",
    "    .merge(\n",
    "        df_new.alias(\"new\"),\"old.user_id = new.user_id\"\n",
    "    )\n",
    "    .whenMatchedUpdateAll(\n",
    "        condition = \"old.user_id = new.user_id\"\n",
    "    )\n",
    "    .whenNotMatchedInsertAll()\n",
    "    .execute()\n",
    ")"
   ]
  },
  {
   "cell_type": "markdown",
   "id": "147ed670",
   "metadata": {},
   "source": [
    "## After Upsert"
   ]
  },
  {
   "cell_type": "code",
   "execution_count": null,
   "id": "144874a8",
   "metadata": {},
   "outputs": [],
   "source": [
    "final_delta = deltaTable.toDF()\n",
    "final_delta.where(\"user_id in (1703, 3650)\").show(truncate=False)\n",
    "\n",
    "print(f\"AMOUNT: {final_delta.count()}\")"
   ]
  },
  {
   "cell_type": "code",
   "execution_count": null,
   "id": "671d3d20",
   "metadata": {},
   "outputs": [],
   "source": [
    "df_old.count() == final_delta.count()"
   ]
  },
  {
   "cell_type": "markdown",
   "id": "61d9f16d",
   "metadata": {},
   "source": [
    "## Time Travel"
   ]
  },
  {
   "cell_type": "code",
   "execution_count": null,
   "id": "1728ab5c",
   "metadata": {},
   "outputs": [],
   "source": [
    "history_delta = deltaTable.history()\n",
    "history_delta.show(vertical=True, n=10, truncate=False)"
   ]
  },
  {
   "cell_type": "code",
   "execution_count": null,
   "id": "03c87ee4",
   "metadata": {},
   "outputs": [],
   "source": [
    "(\n",
    "    history_delta\n",
    "    .select(\"version\",\"operation\",\"timestamp\")\n",
    "    .where(\"operation == 'WRITE'\")\n",
    "    .show(truncate=False)\n",
    ")"
   ]
  },
  {
   "cell_type": "code",
   "execution_count": null,
   "id": "91dbbd83",
   "metadata": {},
   "outputs": [],
   "source": [
    "time_travel_version_0 = (\n",
    "    spark\n",
    "    .read\n",
    "    .format(\"delta\")\n",
    "    .option(\"versionAsOf\", \"0\")\n",
    "    .load(\"../bronze/delta/user\")\n",
    ")\n",
    "\n",
    "(\n",
    "    time_travel_version_0\n",
    "    .where(\"user_id in (1703, 3650)\")\n",
    "    .show(truncate=False)\n",
    ")"
   ]
  },
  {
   "cell_type": "code",
   "execution_count": null,
   "id": "9871479d",
   "metadata": {},
   "outputs": [],
   "source": [
    "(\n",
    "    history_delta\n",
    "    .select(\"version\",\"operation\",\"timestamp\")\n",
    "    .where(\"operation == 'MERGE'\")\n",
    "    .show(truncate=False)\n",
    ")"
   ]
  },
  {
   "cell_type": "code",
   "execution_count": null,
   "id": "00179389",
   "metadata": {},
   "outputs": [],
   "source": [
    "time_travel_timestamp = (\n",
    "    spark\n",
    "    .read\n",
    "    .format(\"delta\")\n",
    "    .option(\"timestampAsOf\", \"2021-11-09 17:25:33.472\") # register timestamp\n",
    "    .load(\"../bronze/delta/user\")\n",
    ")\n",
    "\n",
    "time_travel_timestamp.where(\"user_id in (1703, 3650)\").show(truncate=False)"
   ]
  },
  {
   "cell_type": "markdown",
   "id": "b101ede6",
   "metadata": {},
   "source": [
    "## Verify Changes Beetween to Versions Delta"
   ]
  },
  {
   "cell_type": "code",
   "execution_count": null,
   "id": "dd0af398",
   "metadata": {},
   "outputs": [],
   "source": [
    "time_travel_timestamp.exceptAll(time_travel_version_0).show()"
   ]
  },
  {
   "cell_type": "markdown",
   "id": "c1810ab5",
   "metadata": {},
   "source": [
    "## Merge Schema (Evolution Schema)"
   ]
  },
  {
   "cell_type": "code",
   "execution_count": null,
   "id": "bc7c590d",
   "metadata": {},
   "outputs": [],
   "source": [
    "df_user = (\n",
    "    spark\n",
    "    .read\n",
    "    .format(\"json\")\n",
    "    .load(\"../landing-zone/user\")\n",
    "    .select(\"user_id\", \"email\") #remove gender\n",
    ")\n",
    "\n",
    "(\n",
    "    df_user\n",
    "    .write\n",
    "    .format(\"delta\")\n",
    "    .mode(\"overwrite\")\n",
    "    .option(\"mergeSchema\", True)\n",
    "    .save(\"../bronze/delta/user\")\n",
    ")"
   ]
  },
  {
   "cell_type": "code",
   "execution_count": null,
   "id": "615cd356",
   "metadata": {},
   "outputs": [],
   "source": [
    "df_merge_schema = (\n",
    "    spark\n",
    "    .read\n",
    "    .format(\"delta\")\n",
    "    .load(\"../bronze/delta/user\")\n",
    "    .show(n=5, truncate=False)\n",
    ")"
   ]
  },
  {
   "cell_type": "markdown",
   "id": "04edb6d3",
   "metadata": {},
   "source": [
    "## Overwrite Schema (Evolution Schema)"
   ]
  },
  {
   "cell_type": "code",
   "execution_count": null,
   "id": "1a6e76d2",
   "metadata": {},
   "outputs": [],
   "source": [
    "df_user = (\n",
    "    spark\n",
    "    .read\n",
    "    .format(\"json\")\n",
    "    .load(\"../landing-zone/user\")\n",
    "    .select(\"user_id\", \"email\") #remove gender\n",
    ")\n",
    "\n",
    "df_user.show(truncate=False, n=5)\n",
    "\n",
    "(\n",
    "    df_user\n",
    "    .repartition(10)\n",
    "    .write\n",
    "    .format(\"delta\")\n",
    "    .mode(\"overwrite\")\n",
    "    .option(\"overwriteSchema\", True)\n",
    "    .save(\"../bronze/delta/user\")\n",
    ")"
   ]
  },
  {
   "cell_type": "code",
   "execution_count": null,
   "id": "5b072de9",
   "metadata": {},
   "outputs": [],
   "source": [
    "df_merge_schema = (\n",
    "    spark\n",
    "    .read\n",
    "    .format(\"delta\")\n",
    "    .load(\"../bronze/delta/user\")\n",
    "    .show(n=5, truncate=False)\n",
    ")"
   ]
  },
  {
   "cell_type": "markdown",
   "id": "12654eff",
   "metadata": {},
   "source": [
    "## Symlink Format Manifest"
   ]
  },
  {
   "cell_type": "code",
   "execution_count": null,
   "id": "7b7c9d91",
   "metadata": {},
   "outputs": [],
   "source": [
    "deltaTable = DeltaTable.forPath(spark, \"../bronze/delta/user\")\n",
    "deltaTable.generate(\"symlink_format_manifest\")"
   ]
  },
  {
   "cell_type": "markdown",
   "id": "cb0ca858",
   "metadata": {},
   "source": [
    "## Compact Old Files"
   ]
  },
  {
   "cell_type": "code",
   "execution_count": null,
   "id": "3484e532",
   "metadata": {},
   "outputs": [],
   "source": [
    "# deltaTable.vacuum()\n",
    "# deltaTable.vacuum(200)"
   ]
  },
  {
   "cell_type": "markdown",
   "id": "6f1d500e",
   "metadata": {},
   "source": [
    "## Migrate Data Lake Parquet to Delta"
   ]
  },
  {
   "cell_type": "code",
   "execution_count": null,
   "id": "3b9dd94f",
   "metadata": {},
   "outputs": [],
   "source": [
    "# deltaTable = DeltaTable.convertToDelta(spark, f\"parquet.`../datalake-in-parquet/user`\")"
   ]
  }
 ],
 "metadata": {
  "kernelspec": {
   "display_name": "Python 3 (ipykernel)",
   "language": "python",
   "name": "python3"
  },
  "language_info": {
   "codemirror_mode": {
    "name": "ipython",
    "version": 3
   },
   "file_extension": ".py",
   "mimetype": "text/x-python",
   "name": "python",
   "nbconvert_exporter": "python",
   "pygments_lexer": "ipython3",
   "version": "3.9.5"
  }
 },
 "nbformat": 4,
 "nbformat_minor": 5
}
